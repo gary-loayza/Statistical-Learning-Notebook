{
 "cells": [
  {
   "cell_type": "code",
   "execution_count": 1,
   "metadata": {},
   "outputs": [],
   "source": [
    "import numpy as np\n",
    "import matplotlib.pyplot as plt\n",
    "\n",
    "%matplotlib inline"
   ]
  },
  {
   "cell_type": "markdown",
   "metadata": {},
   "source": [
    "# Conceptual Exercises"
   ]
  },
  {
   "cell_type": "markdown",
   "metadata": {},
   "source": [
    "**1. Using basic statistical properties of the variance, as well as single-variable calculus, derive (5.6). In other words, prove that α given by**\n",
    "\\begin{equation}\\label{5.6}\n",
    "    \\alpha = \\frac{\\sigma^2_Y - \\sigma_{XY}}{\\sigma^2_X + \\sigma^2_Y - 2 \\sigma_{XY} }\n",
    "    \\tag{5.6}\n",
    "\\end{equation}\n",
    " **does indeed minimize** $\\text{Var}(\\alpha X + (1 − \\alpha)Y )$."
   ]
  },
  {
   "cell_type": "markdown",
   "metadata": {},
   "source": [
    "Using the property $\\text{Var}(aX+bY) = a^2\\text{Var}(X) + b^2\\text{Var}(Y) + 2ab\\text{Cov}(X,Y)$\n",
    "\n",
    "\\begin{align*}\n",
    "    \\text{Var}(\\alpha X + (1-\\alpha)Y) = \\alpha^2 \\sigma_X^2 + (1-\\alpha)^2 \\sigma_Y^2 + 2\\alpha (1-\\alpha) \\sigma_{XY} \n",
    "\\end{align*}\n",
    "\n",
    "We optimize by taking the  \n",
    "derivative with respect to $\\alpha$ and  \n",
    "setting equal to zero.\n",
    "\n",
    "\\begin{align*}\n",
    "    \\frac{d}{d\\alpha} (\\alpha^2 \\sigma_X^2 + (1-\\alpha)^2 \\sigma_Y^2 + 2\\alpha (1-\\alpha) \\sigma_{XY}) &= 0 \\newline\n",
    "    2\\alpha \\sigma_X^2 - 2(1-\\alpha)\\sigma_Y^2 + 2\\sigma_{XY} -4\\alpha \\sigma_{XY} &= 0 \\newline\n",
    "    2\\alpha(\\sigma_X^2 + \\sigma_Y^2 - 2 \\sigma_{XY}) - 2( \\sigma_Y^2 - \\sigma_{XY}) &= 0 \\newline\n",
    "\\end{align*}\n",
    "\n",
    "Now we solve for $\\alpha$ to determine the  \n",
    "minimum value for $\\text{Var}(\\alpha X + (1 − \\alpha)Y )$.\n",
    "\n",
    "\\begin{align*}\n",
    "    \\Rightarrow \\alpha(\\sigma_X^2 + \\sigma_Y^2 - 2 \\sigma_{XY}) &=  \\sigma_Y^2 - \\sigma_{XY} \\newline\n",
    "    \\alpha &= \\frac{\\sigma_Y^2 - \\sigma_{XY}}{\\sigma_X^2 + \\sigma_Y^2 - 2 \\sigma_{XY}}\n",
    "\\end{align*}"
   ]
  },
  {
   "cell_type": "markdown",
   "metadata": {},
   "source": [
    "---"
   ]
  },
  {
   "cell_type": "markdown",
   "metadata": {},
   "source": [
    "**2. We will now derive the probability that a given observation is part of a bootstrap sample. Suppose that we obtain a bootstrap sample from a set of n observations.**\n",
    "\n",
    "**(a) What is the probability that the first bootstrap observation is not the jth observation from the original sample? Justify your answer.**"
   ]
  },
  {
   "cell_type": "markdown",
   "metadata": {},
   "source": [
    "The probability that the first bootstrap observation **is** the $j^{th}$ observation from the original sample is equivalent to the probability that we randomly select the $j^{th}$ observation from the original sample of size n.\n",
    "\n",
    "\\begin{align*}\n",
    "    P(j) = \\frac{1}{n}\n",
    "\\end{align*}\n",
    "\n",
    "Since we want the compliment of this probability to get the probablity that we did **not** randomly select this observation, we have\n",
    "\n",
    "\\begin{align*}\n",
    "    P(\\neg j) &= P(j)^c = 1 - P(j) \\newline\n",
    "    &= 1 - \\frac{1}{n}\n",
    "\\end{align*}"
   ]
  },
  {
   "cell_type": "markdown",
   "metadata": {},
   "source": [
    "**(b) What is the probability that the second bootstrap observation is not the jth observation from the original sample?**"
   ]
  },
  {
   "cell_type": "markdown",
   "metadata": {},
   "source": [
    "Bootstrap implies **replacement**, thus the probability that the second bootstrap observation is not the jth observation is equal to the probability that it is not the first bootstrap observation.\n",
    "\n",
    "This is the same as above. $1 - \\frac{1}{n}$"
   ]
  },
  {
   "cell_type": "markdown",
   "metadata": {},
   "source": [
    "**(c) Argue that the probability that the jth observation is not in the\n",
    "bootstrap sample is** $(1 − \\frac{1}{n})^n$."
   ]
  },
  {
   "cell_type": "markdown",
   "metadata": {},
   "source": [
    "As we saw in part (b), the probability that the $j^{th}$ observation is not in the $i^{th}$ bootstrap sample  \n",
    "is $1 - \\frac{1}{n}$. Therefore, we can compute the probability that it does not exist in the sample by multiplying the independent probabilities over the bootstrap sample $S_B$ of size $N$.\n",
    "\n",
    "\\begin{align*}\n",
    "    P(j \\notin S_B) = \\prod_{i = 1}^{N} P(\\neg j) &= \\prod_{i = 1}^{N} \\left(1 - \\frac{1}{n} \\right) = \\left(1 - \\frac{1}{n} \\right)^N\n",
    "\\end{align*}\n",
    "\n",
    "If we make the bootstrap sample to be the same size of the original sample ($N=n$), we have\n",
    "\n",
    "\\begin{align*}\n",
    "    P(j \\notin S_B) = \\left(1 - \\frac{1}{n} \\right)^n\n",
    "\\end{align*}"
   ]
  },
  {
   "cell_type": "markdown",
   "metadata": {},
   "source": [
    "**(d) When n = 5, what is the probability that the jth observation is in the bootstrap sample?**"
   ]
  },
  {
   "cell_type": "markdown",
   "metadata": {},
   "source": [
    "The probability that observation $j$ **is** in the sample $S_B$ is the compliment of the probability that the observation $j$ is **not** in the sample $S_B$.\n",
    "\n",
    "\\begin{align*}\n",
    "    P(j \\in S_B) = P(j \\notin S_B)^c &= 1 - P(j \\notin S_B) \\newline\n",
    "    &= 1 - \\left(1 - \\frac{1}{n} \\right)^n \\newline\n",
    "    &= 1 - \\left(1 - \\frac{1}{5} \\right)^5 \\newline\n",
    "    &\\approx 0.67\n",
    "\\end{align*}\n"
   ]
  },
  {
   "cell_type": "markdown",
   "metadata": {},
   "source": [
    "**(e) When n = 100, what is the probability that the jth observation is in the bootstrap sample?**"
   ]
  },
  {
   "cell_type": "markdown",
   "metadata": {},
   "source": [
    "\\begin{align*}\n",
    "     P(j \\in S_B) &= 1 - \\left(1 - \\frac{1}{100} \\right)^{100} \\newline\n",
    "     &\\approx 0.63\n",
    "\\end{align*}"
   ]
  },
  {
   "cell_type": "markdown",
   "metadata": {},
   "source": [
    "**(f) When n = 10 000, what is the probability that the jth observation is in the bootstrap sample?**"
   ]
  },
  {
   "cell_type": "markdown",
   "metadata": {},
   "source": [
    "\\begin{align*}\n",
    "     P(j \\in S_B) &= 1 - \\left(1 - \\frac{1}{10,000} \\right)^{10,000} \\newline\n",
    "     &\\approx 0.63\n",
    "\\end{align*}"
   ]
  },
  {
   "cell_type": "markdown",
   "metadata": {},
   "source": [
    "**(g) Create a plot that displays, for each integer value of n from 1 to 100 000, the probability that the jth observation is in the bootstrap sample. Comment on what you observe.**"
   ]
  },
  {
   "cell_type": "code",
   "execution_count": 2,
   "metadata": {
    "code_folding": [
     0
    ]
   },
   "outputs": [
    {
     "data": {
      "image/png": "[encoded data removed]",
      "text/plain": [
       "<Figure size 720x432 with 1 Axes>"
      ]
     },
     "metadata": {
      "needs_background": "light"
     },
     "output_type": "display_data"
    }
   ],
   "source": [
    "# Probability of j in Sample\n",
    "x = np.linspace(1,100000)\n",
    "\n",
    "def prob(n):\n",
    "    return ( 1 - (1 - (1/n))**n )\n",
    "\n",
    "fig = plt.figure(figsize=(10,6))\n",
    "ax = fig.add_axes([0,0,1,1])\n",
    "\n",
    "ax.set_ylabel('Probability of j in Sample')\n",
    "ax.set_ylim(ymax=0.95)\n",
    "ax.set_xlabel('n')\n",
    "\n",
    "ax.plot(x, prob(x))\n",
    "plt.show()"
   ]
  },
  {
   "cell_type": "markdown",
   "metadata": {},
   "source": [
    "The probability appears to converge to $0.63$. Indeed, if we compute the limit we will find that\n",
    "\\begin{align*}\n",
    "    \\lim_{n \\to \\infty} \\left[ 1 - \\left(1 - \\frac{1}{n} \\right)^n \\right] = \\frac{-1 + e}{e} \\approx 0.632121\n",
    "\\end{align*}"
   ]
  },
  {
   "cell_type": "markdown",
   "metadata": {},
   "source": [
    "---"
   ]
  },
  {
   "cell_type": "markdown",
   "metadata": {},
   "source": [
    "**3. We now review k-fold cross-validation.**\n",
    "\n",
    "**(a) Explain how k-fold cross-validation is implemented.**"
   ]
  },
  {
   "cell_type": "markdown",
   "metadata": {},
   "source": [
    "We take a sample and divide it evenly into $k$ number of sub-samples. The $k$ sub-samples are then used to train the model, while the remaining data is used to test the model. What we are left with is $k$ number of mean test errors."
   ]
  },
  {
   "cell_type": "markdown",
   "metadata": {},
   "source": [
    "**(b) What are the advantages and disadvantages of k-fold cross-validation relative to:**\n",
    "\n",
    "**i. The validation set approach?**"
   ]
  },
  {
   "cell_type": "markdown",
   "metadata": {},
   "source": [
    "Validation set approach will divide the data in half. One half to train the model, the other half to test.\n",
    "Additionally, you don't seem to resample the other half of the data to obtain a second MSE. I believe this makes it different from the $k$-fold CV special case where $k=2$.\n",
    "\n",
    "The validation set approach will only give us a single value estimate for the error. In addition, the error on the validation set is a poor reflection of the performance of the full model where we use all the data. $k$-fold CV also uses every single piece of data as both a train and test data point. The disadvantage is that each of our $k$ has more variability individually since our test errors are run on smaller sets."
   ]
  },
  {
   "cell_type": "markdown",
   "metadata": {},
   "source": [
    "**ii. LOOCV?**"
   ]
  },
  {
   "cell_type": "markdown",
   "metadata": {},
   "source": [
    "$k$-fold CV is much less computationally intensive than LOOCV. $k$-fold also tends to give better estimates of the error over LOOCV."
   ]
  },
  {
   "cell_type": "markdown",
   "metadata": {},
   "source": [
    "---"
   ]
  },
  {
   "cell_type": "markdown",
   "metadata": {},
   "source": [
    "**4. Suppose that we use some statistical learning method to make a prediction for the response Y for a particular value of the predictor X. Carefully describe how we might estimate the standard deviation of our prediction.**"
   ]
  },
  {
   "cell_type": "markdown",
   "metadata": {},
   "source": [
    "The bootstrap method provides an approximately unbiased estimation of the population's standard deviation when given only a sample. So we would produce a large number ($B$) of bootstrap samples of $X$ and make $B$-many predictions to get a result $\\hat{Y} = \\text{Ave} \\left( \\hat{Y}_1, \\ldots, \\hat{Y}_B \\right) $. The standard deviation would be computed from the $B$-many predictions, $\\{ \\hat{Y}_1, \\ldots, \\hat{Y}_B \\}$"
   ]
  }
 ],
 "metadata": {
  "kernelspec": {
   "display_name": "Python 3",
   "language": "python",
   "name": "python3"
  },
  "language_info": {
   "codemirror_mode": {
    "name": "ipython",
    "version": 3
   },
   "file_extension": ".py",
   "mimetype": "text/x-python",
   "name": "python",
   "nbconvert_exporter": "python",
   "pygments_lexer": "ipython3",
   "version": "3.8.5"
  },
  "latex_envs": {
   "LaTeX_envs_menu_present": true,
   "autoclose": false,
   "autocomplete": true,
   "bibliofile": "biblio.bib",
   "cite_by": "apalike",
   "current_citInitial": 1,
   "eqLabelWithNumbers": true,
   "eqNumInitial": 1,
   "hotkeys": {
    "equation": "Ctrl-E",
    "itemize": "Ctrl-I"
   },
   "labels_anchors": false,
   "latex_user_defs": false,
   "report_style_numbering": true,
   "user_envs_cfg": false
  }
 },
 "nbformat": 4,
 "nbformat_minor": 4
}
